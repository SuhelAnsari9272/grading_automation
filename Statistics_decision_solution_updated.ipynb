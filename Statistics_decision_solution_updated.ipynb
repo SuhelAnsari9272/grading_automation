{
  "cells": [
    {
      "cell_type": "code",
      "execution_count": null,
      "id": "5cb3a7af",
      "metadata": {
        "id": "5cb3a7af"
      },
      "outputs": [],
      "source": [
        "import pandas as pd\n",
        "import numpy as np\n",
        "from scipy import stats\n",
        "from scipy.stats import binom, poisson"
      ]
    },
    {
      "cell_type": "code",
      "source": [
        "from google.colab import drive\n",
        "drive.mount('/content/drive')"
      ],
      "metadata": {
        "colab": {
          "base_uri": "https://localhost:8080/"
        },
        "id": "_opjmDmdK9Ry",
        "outputId": "924ed3e8-95cf-4148-d0f4-8e3ef1fc8ffc"
      },
      "id": "_opjmDmdK9Ry",
      "execution_count": null,
      "outputs": [
        {
          "output_type": "stream",
          "name": "stdout",
          "text": [
            "Drive already mounted at /content/drive; to attempt to forcibly remount, call drive.mount(\"/content/drive\", force_remount=True).\n"
          ]
        }
      ]
    },
    {
      "cell_type": "code",
      "execution_count": null,
      "id": "c392c568",
      "metadata": {
        "id": "c392c568"
      },
      "outputs": [],
      "source": [
        "#reading the data\n",
        "df=pd.read_csv('/content/drive/MyDrive/property.csv')"
      ]
    },
    {
      "cell_type": "code",
      "execution_count": null,
      "id": "9623c87d",
      "metadata": {
        "id": "9623c87d",
        "outputId": "71bf168c-5e83-4c75-8ce6-2a9dedf7f32e",
        "colab": {
          "base_uri": "https://localhost:8080/",
          "height": 377
        }
      },
      "outputs": [
        {
          "output_type": "execute_result",
          "data": {
            "text/plain": [
              "       Suburb           Address  Rooms Type      Price Method SellerG  \\\n",
              "0  Abbotsford      85 Turner St      2    h  1480000.0      S  Biggin   \n",
              "1  Abbotsford   25 Bloomburg St      2    h  1035000.0      S  Biggin   \n",
              "2  Abbotsford      5 Charles St      3    h  1465000.0     SP  Biggin   \n",
              "3  Abbotsford  40 Federation La      3    h   850000.0     PI  Biggin   \n",
              "4  Abbotsford       55a Park St      4    h  1600000.0     VB  Nelson   \n",
              "\n",
              "        Date  Distance  Postcode  ...  Bathroom  Car  Landsize  BuildingArea  \\\n",
              "0  3/12/2016       2.5    3067.0  ...       1.0  1.0     202.0           NaN   \n",
              "1  4/02/2016       2.5    3067.0  ...       1.0  0.0     156.0          79.0   \n",
              "2  4/03/2017       2.5    3067.0  ...       2.0  0.0     134.0         150.0   \n",
              "3  4/03/2017       2.5    3067.0  ...       2.0  1.0      94.0           NaN   \n",
              "4  4/06/2016       2.5    3067.0  ...       1.0  2.0     120.0         142.0   \n",
              "\n",
              "   YearBuilt  CouncilArea Lattitude  Longtitude             Regionname  \\\n",
              "0        NaN        Yarra  -37.7996    144.9984  Northern Metropolitan   \n",
              "1     1900.0        Yarra  -37.8079    144.9934  Northern Metropolitan   \n",
              "2     1900.0        Yarra  -37.8093    144.9944  Northern Metropolitan   \n",
              "3        NaN        Yarra  -37.7969    144.9969  Northern Metropolitan   \n",
              "4     2014.0        Yarra  -37.8072    144.9941  Northern Metropolitan   \n",
              "\n",
              "  Propertycount  \n",
              "0        4019.0  \n",
              "1        4019.0  \n",
              "2        4019.0  \n",
              "3        4019.0  \n",
              "4        4019.0  \n",
              "\n",
              "[5 rows x 21 columns]"
            ],
            "text/html": [
              "\n",
              "  <div id=\"df-c4ac1dea-d025-4eef-91ec-e527df172276\" class=\"colab-df-container\">\n",
              "    <div>\n",
              "<style scoped>\n",
              "    .dataframe tbody tr th:only-of-type {\n",
              "        vertical-align: middle;\n",
              "    }\n",
              "\n",
              "    .dataframe tbody tr th {\n",
              "        vertical-align: top;\n",
              "    }\n",
              "\n",
              "    .dataframe thead th {\n",
              "        text-align: right;\n",
              "    }\n",
              "</style>\n",
              "<table border=\"1\" class=\"dataframe\">\n",
              "  <thead>\n",
              "    <tr style=\"text-align: right;\">\n",
              "      <th></th>\n",
              "      <th>Suburb</th>\n",
              "      <th>Address</th>\n",
              "      <th>Rooms</th>\n",
              "      <th>Type</th>\n",
              "      <th>Price</th>\n",
              "      <th>Method</th>\n",
              "      <th>SellerG</th>\n",
              "      <th>Date</th>\n",
              "      <th>Distance</th>\n",
              "      <th>Postcode</th>\n",
              "      <th>...</th>\n",
              "      <th>Bathroom</th>\n",
              "      <th>Car</th>\n",
              "      <th>Landsize</th>\n",
              "      <th>BuildingArea</th>\n",
              "      <th>YearBuilt</th>\n",
              "      <th>CouncilArea</th>\n",
              "      <th>Lattitude</th>\n",
              "      <th>Longtitude</th>\n",
              "      <th>Regionname</th>\n",
              "      <th>Propertycount</th>\n",
              "    </tr>\n",
              "  </thead>\n",
              "  <tbody>\n",
              "    <tr>\n",
              "      <th>0</th>\n",
              "      <td>Abbotsford</td>\n",
              "      <td>85 Turner St</td>\n",
              "      <td>2</td>\n",
              "      <td>h</td>\n",
              "      <td>1480000.0</td>\n",
              "      <td>S</td>\n",
              "      <td>Biggin</td>\n",
              "      <td>3/12/2016</td>\n",
              "      <td>2.5</td>\n",
              "      <td>3067.0</td>\n",
              "      <td>...</td>\n",
              "      <td>1.0</td>\n",
              "      <td>1.0</td>\n",
              "      <td>202.0</td>\n",
              "      <td>NaN</td>\n",
              "      <td>NaN</td>\n",
              "      <td>Yarra</td>\n",
              "      <td>-37.7996</td>\n",
              "      <td>144.9984</td>\n",
              "      <td>Northern Metropolitan</td>\n",
              "      <td>4019.0</td>\n",
              "    </tr>\n",
              "    <tr>\n",
              "      <th>1</th>\n",
              "      <td>Abbotsford</td>\n",
              "      <td>25 Bloomburg St</td>\n",
              "      <td>2</td>\n",
              "      <td>h</td>\n",
              "      <td>1035000.0</td>\n",
              "      <td>S</td>\n",
              "      <td>Biggin</td>\n",
              "      <td>4/02/2016</td>\n",
              "      <td>2.5</td>\n",
              "      <td>3067.0</td>\n",
              "      <td>...</td>\n",
              "      <td>1.0</td>\n",
              "      <td>0.0</td>\n",
              "      <td>156.0</td>\n",
              "      <td>79.0</td>\n",
              "      <td>1900.0</td>\n",
              "      <td>Yarra</td>\n",
              "      <td>-37.8079</td>\n",
              "      <td>144.9934</td>\n",
              "      <td>Northern Metropolitan</td>\n",
              "      <td>4019.0</td>\n",
              "    </tr>\n",
              "    <tr>\n",
              "      <th>2</th>\n",
              "      <td>Abbotsford</td>\n",
              "      <td>5 Charles St</td>\n",
              "      <td>3</td>\n",
              "      <td>h</td>\n",
              "      <td>1465000.0</td>\n",
              "      <td>SP</td>\n",
              "      <td>Biggin</td>\n",
              "      <td>4/03/2017</td>\n",
              "      <td>2.5</td>\n",
              "      <td>3067.0</td>\n",
              "      <td>...</td>\n",
              "      <td>2.0</td>\n",
              "      <td>0.0</td>\n",
              "      <td>134.0</td>\n",
              "      <td>150.0</td>\n",
              "      <td>1900.0</td>\n",
              "      <td>Yarra</td>\n",
              "      <td>-37.8093</td>\n",
              "      <td>144.9944</td>\n",
              "      <td>Northern Metropolitan</td>\n",
              "      <td>4019.0</td>\n",
              "    </tr>\n",
              "    <tr>\n",
              "      <th>3</th>\n",
              "      <td>Abbotsford</td>\n",
              "      <td>40 Federation La</td>\n",
              "      <td>3</td>\n",
              "      <td>h</td>\n",
              "      <td>850000.0</td>\n",
              "      <td>PI</td>\n",
              "      <td>Biggin</td>\n",
              "      <td>4/03/2017</td>\n",
              "      <td>2.5</td>\n",
              "      <td>3067.0</td>\n",
              "      <td>...</td>\n",
              "      <td>2.0</td>\n",
              "      <td>1.0</td>\n",
              "      <td>94.0</td>\n",
              "      <td>NaN</td>\n",
              "      <td>NaN</td>\n",
              "      <td>Yarra</td>\n",
              "      <td>-37.7969</td>\n",
              "      <td>144.9969</td>\n",
              "      <td>Northern Metropolitan</td>\n",
              "      <td>4019.0</td>\n",
              "    </tr>\n",
              "    <tr>\n",
              "      <th>4</th>\n",
              "      <td>Abbotsford</td>\n",
              "      <td>55a Park St</td>\n",
              "      <td>4</td>\n",
              "      <td>h</td>\n",
              "      <td>1600000.0</td>\n",
              "      <td>VB</td>\n",
              "      <td>Nelson</td>\n",
              "      <td>4/06/2016</td>\n",
              "      <td>2.5</td>\n",
              "      <td>3067.0</td>\n",
              "      <td>...</td>\n",
              "      <td>1.0</td>\n",
              "      <td>2.0</td>\n",
              "      <td>120.0</td>\n",
              "      <td>142.0</td>\n",
              "      <td>2014.0</td>\n",
              "      <td>Yarra</td>\n",
              "      <td>-37.8072</td>\n",
              "      <td>144.9941</td>\n",
              "      <td>Northern Metropolitan</td>\n",
              "      <td>4019.0</td>\n",
              "    </tr>\n",
              "  </tbody>\n",
              "</table>\n",
              "<p>5 rows × 21 columns</p>\n",
              "</div>\n",
              "    <div class=\"colab-df-buttons\">\n",
              "\n",
              "  <div class=\"colab-df-container\">\n",
              "    <button class=\"colab-df-convert\" onclick=\"convertToInteractive('df-c4ac1dea-d025-4eef-91ec-e527df172276')\"\n",
              "            title=\"Convert this dataframe to an interactive table.\"\n",
              "            style=\"display:none;\">\n",
              "\n",
              "  <svg xmlns=\"http://www.w3.org/2000/svg\" height=\"24px\" viewBox=\"0 -960 960 960\">\n",
              "    <path d=\"M120-120v-720h720v720H120Zm60-500h600v-160H180v160Zm220 220h160v-160H400v160Zm0 220h160v-160H400v160ZM180-400h160v-160H180v160Zm440 0h160v-160H620v160ZM180-180h160v-160H180v160Zm440 0h160v-160H620v160Z\"/>\n",
              "  </svg>\n",
              "    </button>\n",
              "\n",
              "  <style>\n",
              "    .colab-df-container {\n",
              "      display:flex;\n",
              "      gap: 12px;\n",
              "    }\n",
              "\n",
              "    .colab-df-convert {\n",
              "      background-color: #E8F0FE;\n",
              "      border: none;\n",
              "      border-radius: 50%;\n",
              "      cursor: pointer;\n",
              "      display: none;\n",
              "      fill: #1967D2;\n",
              "      height: 32px;\n",
              "      padding: 0 0 0 0;\n",
              "      width: 32px;\n",
              "    }\n",
              "\n",
              "    .colab-df-convert:hover {\n",
              "      background-color: #E2EBFA;\n",
              "      box-shadow: 0px 1px 2px rgba(60, 64, 67, 0.3), 0px 1px 3px 1px rgba(60, 64, 67, 0.15);\n",
              "      fill: #174EA6;\n",
              "    }\n",
              "\n",
              "    .colab-df-buttons div {\n",
              "      margin-bottom: 4px;\n",
              "    }\n",
              "\n",
              "    [theme=dark] .colab-df-convert {\n",
              "      background-color: #3B4455;\n",
              "      fill: #D2E3FC;\n",
              "    }\n",
              "\n",
              "    [theme=dark] .colab-df-convert:hover {\n",
              "      background-color: #434B5C;\n",
              "      box-shadow: 0px 1px 3px 1px rgba(0, 0, 0, 0.15);\n",
              "      filter: drop-shadow(0px 1px 2px rgba(0, 0, 0, 0.3));\n",
              "      fill: #FFFFFF;\n",
              "    }\n",
              "  </style>\n",
              "\n",
              "    <script>\n",
              "      const buttonEl =\n",
              "        document.querySelector('#df-c4ac1dea-d025-4eef-91ec-e527df172276 button.colab-df-convert');\n",
              "      buttonEl.style.display =\n",
              "        google.colab.kernel.accessAllowed ? 'block' : 'none';\n",
              "\n",
              "      async function convertToInteractive(key) {\n",
              "        const element = document.querySelector('#df-c4ac1dea-d025-4eef-91ec-e527df172276');\n",
              "        const dataTable =\n",
              "          await google.colab.kernel.invokeFunction('convertToInteractive',\n",
              "                                                    [key], {});\n",
              "        if (!dataTable) return;\n",
              "\n",
              "        const docLinkHtml = 'Like what you see? Visit the ' +\n",
              "          '<a target=\"_blank\" href=https://colab.research.google.com/notebooks/data_table.ipynb>data table notebook</a>'\n",
              "          + ' to learn more about interactive tables.';\n",
              "        element.innerHTML = '';\n",
              "        dataTable['output_type'] = 'display_data';\n",
              "        await google.colab.output.renderOutput(dataTable, element);\n",
              "        const docLink = document.createElement('div');\n",
              "        docLink.innerHTML = docLinkHtml;\n",
              "        element.appendChild(docLink);\n",
              "      }\n",
              "    </script>\n",
              "  </div>\n",
              "\n",
              "\n",
              "<div id=\"df-c07ab5ba-12b3-495f-a194-154a4528ecaf\">\n",
              "  <button class=\"colab-df-quickchart\" onclick=\"quickchart('df-c07ab5ba-12b3-495f-a194-154a4528ecaf')\"\n",
              "            title=\"Suggest charts\"\n",
              "            style=\"display:none;\">\n",
              "\n",
              "<svg xmlns=\"http://www.w3.org/2000/svg\" height=\"24px\"viewBox=\"0 0 24 24\"\n",
              "     width=\"24px\">\n",
              "    <g>\n",
              "        <path d=\"M19 3H5c-1.1 0-2 .9-2 2v14c0 1.1.9 2 2 2h14c1.1 0 2-.9 2-2V5c0-1.1-.9-2-2-2zM9 17H7v-7h2v7zm4 0h-2V7h2v10zm4 0h-2v-4h2v4z\"/>\n",
              "    </g>\n",
              "</svg>\n",
              "  </button>\n",
              "\n",
              "<style>\n",
              "  .colab-df-quickchart {\n",
              "      --bg-color: #E8F0FE;\n",
              "      --fill-color: #1967D2;\n",
              "      --hover-bg-color: #E2EBFA;\n",
              "      --hover-fill-color: #174EA6;\n",
              "      --disabled-fill-color: #AAA;\n",
              "      --disabled-bg-color: #DDD;\n",
              "  }\n",
              "\n",
              "  [theme=dark] .colab-df-quickchart {\n",
              "      --bg-color: #3B4455;\n",
              "      --fill-color: #D2E3FC;\n",
              "      --hover-bg-color: #434B5C;\n",
              "      --hover-fill-color: #FFFFFF;\n",
              "      --disabled-bg-color: #3B4455;\n",
              "      --disabled-fill-color: #666;\n",
              "  }\n",
              "\n",
              "  .colab-df-quickchart {\n",
              "    background-color: var(--bg-color);\n",
              "    border: none;\n",
              "    border-radius: 50%;\n",
              "    cursor: pointer;\n",
              "    display: none;\n",
              "    fill: var(--fill-color);\n",
              "    height: 32px;\n",
              "    padding: 0;\n",
              "    width: 32px;\n",
              "  }\n",
              "\n",
              "  .colab-df-quickchart:hover {\n",
              "    background-color: var(--hover-bg-color);\n",
              "    box-shadow: 0 1px 2px rgba(60, 64, 67, 0.3), 0 1px 3px 1px rgba(60, 64, 67, 0.15);\n",
              "    fill: var(--button-hover-fill-color);\n",
              "  }\n",
              "\n",
              "  .colab-df-quickchart-complete:disabled,\n",
              "  .colab-df-quickchart-complete:disabled:hover {\n",
              "    background-color: var(--disabled-bg-color);\n",
              "    fill: var(--disabled-fill-color);\n",
              "    box-shadow: none;\n",
              "  }\n",
              "\n",
              "  .colab-df-spinner {\n",
              "    border: 2px solid var(--fill-color);\n",
              "    border-color: transparent;\n",
              "    border-bottom-color: var(--fill-color);\n",
              "    animation:\n",
              "      spin 1s steps(1) infinite;\n",
              "  }\n",
              "\n",
              "  @keyframes spin {\n",
              "    0% {\n",
              "      border-color: transparent;\n",
              "      border-bottom-color: var(--fill-color);\n",
              "      border-left-color: var(--fill-color);\n",
              "    }\n",
              "    20% {\n",
              "      border-color: transparent;\n",
              "      border-left-color: var(--fill-color);\n",
              "      border-top-color: var(--fill-color);\n",
              "    }\n",
              "    30% {\n",
              "      border-color: transparent;\n",
              "      border-left-color: var(--fill-color);\n",
              "      border-top-color: var(--fill-color);\n",
              "      border-right-color: var(--fill-color);\n",
              "    }\n",
              "    40% {\n",
              "      border-color: transparent;\n",
              "      border-right-color: var(--fill-color);\n",
              "      border-top-color: var(--fill-color);\n",
              "    }\n",
              "    60% {\n",
              "      border-color: transparent;\n",
              "      border-right-color: var(--fill-color);\n",
              "    }\n",
              "    80% {\n",
              "      border-color: transparent;\n",
              "      border-right-color: var(--fill-color);\n",
              "      border-bottom-color: var(--fill-color);\n",
              "    }\n",
              "    90% {\n",
              "      border-color: transparent;\n",
              "      border-bottom-color: var(--fill-color);\n",
              "    }\n",
              "  }\n",
              "</style>\n",
              "\n",
              "  <script>\n",
              "    async function quickchart(key) {\n",
              "      const quickchartButtonEl =\n",
              "        document.querySelector('#' + key + ' button');\n",
              "      quickchartButtonEl.disabled = true;  // To prevent multiple clicks.\n",
              "      quickchartButtonEl.classList.add('colab-df-spinner');\n",
              "      try {\n",
              "        const charts = await google.colab.kernel.invokeFunction(\n",
              "            'suggestCharts', [key], {});\n",
              "      } catch (error) {\n",
              "        console.error('Error during call to suggestCharts:', error);\n",
              "      }\n",
              "      quickchartButtonEl.classList.remove('colab-df-spinner');\n",
              "      quickchartButtonEl.classList.add('colab-df-quickchart-complete');\n",
              "    }\n",
              "    (() => {\n",
              "      let quickchartButtonEl =\n",
              "        document.querySelector('#df-c07ab5ba-12b3-495f-a194-154a4528ecaf button');\n",
              "      quickchartButtonEl.style.display =\n",
              "        google.colab.kernel.accessAllowed ? 'block' : 'none';\n",
              "    })();\n",
              "  </script>\n",
              "</div>\n",
              "    </div>\n",
              "  </div>\n"
            ],
            "application/vnd.google.colaboratory.intrinsic+json": {
              "type": "dataframe",
              "variable_name": "df"
            }
          },
          "metadata": {},
          "execution_count": 6
        }
      ],
      "source": [
        "#Data overview\n",
        "df.head()"
      ]
    },
    {
      "cell_type": "code",
      "execution_count": null,
      "id": "855bc843",
      "metadata": {
        "id": "855bc843",
        "outputId": "655f5e5e-c3e3-4145-9343-8b5a80a450cb",
        "colab": {
          "base_uri": "https://localhost:8080/"
        }
      },
      "outputs": [
        {
          "output_type": "stream",
          "name": "stdout",
          "text": [
            "<class 'pandas.core.frame.DataFrame'>\n",
            "RangeIndex: 13580 entries, 0 to 13579\n",
            "Data columns (total 21 columns):\n",
            " #   Column         Non-Null Count  Dtype  \n",
            "---  ------         --------------  -----  \n",
            " 0   Suburb         13580 non-null  object \n",
            " 1   Address        13580 non-null  object \n",
            " 2   Rooms          13580 non-null  int64  \n",
            " 3   Type           13580 non-null  object \n",
            " 4   Price          13580 non-null  float64\n",
            " 5   Method         13580 non-null  object \n",
            " 6   SellerG        13580 non-null  object \n",
            " 7   Date           13580 non-null  object \n",
            " 8   Distance       13580 non-null  float64\n",
            " 9   Postcode       13580 non-null  float64\n",
            " 10  Bedroom2       13580 non-null  float64\n",
            " 11  Bathroom       13580 non-null  float64\n",
            " 12  Car            13518 non-null  float64\n",
            " 13  Landsize       13580 non-null  float64\n",
            " 14  BuildingArea   7130 non-null   float64\n",
            " 15  YearBuilt      8205 non-null   float64\n",
            " 16  CouncilArea    12211 non-null  object \n",
            " 17  Lattitude      13580 non-null  float64\n",
            " 18  Longtitude     13580 non-null  float64\n",
            " 19  Regionname     13580 non-null  object \n",
            " 20  Propertycount  13580 non-null  float64\n",
            "dtypes: float64(12), int64(1), object(8)\n",
            "memory usage: 2.2+ MB\n"
          ]
        }
      ],
      "source": [
        "df.info()"
      ]
    },
    {
      "cell_type": "code",
      "execution_count": null,
      "id": "2b4bc8bd",
      "metadata": {
        "id": "2b4bc8bd",
        "outputId": "0aa0f560-2d0c-42f9-90cf-8298b150f09c",
        "colab": {
          "base_uri": "https://localhost:8080/"
        }
      },
      "outputs": [
        {
          "output_type": "execute_result",
          "data": {
            "text/plain": [
              "Suburb              0\n",
              "Address             0\n",
              "Rooms               0\n",
              "Type                0\n",
              "Price               0\n",
              "Method              0\n",
              "SellerG             0\n",
              "Date                0\n",
              "Distance            0\n",
              "Postcode            0\n",
              "Bedroom2            0\n",
              "Bathroom            0\n",
              "Car                62\n",
              "Landsize            0\n",
              "BuildingArea     6450\n",
              "YearBuilt        5375\n",
              "CouncilArea      1369\n",
              "Lattitude           0\n",
              "Longtitude          0\n",
              "Regionname          0\n",
              "Propertycount       0\n",
              "dtype: int64"
            ]
          },
          "metadata": {},
          "execution_count": 8
        }
      ],
      "source": [
        "df.isnull().sum()"
      ]
    },
    {
      "cell_type": "markdown",
      "id": "2cda2d44",
      "metadata": {
        "id": "2cda2d44"
      },
      "source": [
        "**Q1**.Use the dataset named `property.csv` provided to you. This contains data on real estate prices in Australia. Now use this data to test the following hypothesis:\n",
        "\n",
        "For the suburb Altona, it is postulated that a typical property sells for `$800,000.` Use the data at hand to test this assumption. Is the typical property price really `$800,000` or has it increased?"
      ]
    },
    {
      "cell_type": "code",
      "source": [
        "#H_0: The property price is more than $800000 or above\n",
        "#H_1: The property price is less than $800000"
      ],
      "metadata": {
        "id": "qwaxBaLW5dS7"
      },
      "id": "qwaxBaLW5dS7",
      "execution_count": null,
      "outputs": []
    },
    {
      "cell_type": "code",
      "execution_count": null,
      "id": "c7118b27",
      "metadata": {
        "id": "c7118b27",
        "outputId": "7a5c53bd-92b0-4b70-85aa-e0baf693349b",
        "colab": {
          "base_uri": "https://localhost:8080/"
        }
      },
      "outputs": [
        {
          "output_type": "stream",
          "name": "stdout",
          "text": [
            "1.0277020770199676 0.307483271305555\n",
            "There is no significant difference in the typical property price from $800,000 (p >= 0.05).\n"
          ]
        }
      ],
      "source": [
        "# perform one sample t-test\n",
        "altona_data = df[df['Suburb'] == 'Altona']['Price']\n",
        "assumed_price = 800000\n",
        "significance_level = 0.05\n",
        "t_stat, p_value = stats.ttest_1samp(altona_data, assumed_price)\n",
        "print(t_stat,p_value)\n",
        "\n",
        "if p_value < significance_level:\n",
        "    print(\"The typical property price is different from $800,000 (p < 0.05).\")\n",
        "else:\n",
        "    print(\"There is no significant difference in the typical property price from $800,000 (p >= 0.05).\")"
      ]
    },
    {
      "cell_type": "markdown",
      "id": "918977e0",
      "metadata": {
        "id": "918977e0"
      },
      "source": [
        "2. For the year 2016, is there any difference in prices of properties sold in the summer months\n",
        "vs winter months? Consider months from October till March as winter months and rest as\n",
        "summer months. Use a significance level of 5%"
      ]
    },
    {
      "cell_type": "code",
      "execution_count": null,
      "id": "225c43de",
      "metadata": {
        "id": "225c43de"
      },
      "outputs": [],
      "source": [
        "#Converting the date column in date format\n",
        "df['Date'] = pd.to_datetime(df['Date'], format='%d/%m/%Y')"
      ]
    },
    {
      "cell_type": "code",
      "execution_count": null,
      "id": "e5e033a1",
      "metadata": {
        "id": "e5e033a1",
        "outputId": "18cfee98-818e-4b4f-89d9-17a2243a36c9",
        "colab": {
          "base_uri": "https://localhost:8080/"
        }
      },
      "outputs": [
        {
          "output_type": "stream",
          "name": "stdout",
          "text": [
            "4.043386317851058 5.3309767667631686e-05\n",
            "There is a significant difference in property prices between summer and winter months in 2016 (p < 0.05).\n"
          ]
        }
      ],
      "source": [
        "winter_months = [10, 11, 12, 1, 2, 3]\n",
        "\n",
        "df['Season'] = np.where(df['Date'].dt.month.isin(winter_months), 'Winter', 'Summer')\n",
        "\n",
        "summer_data = df[(df['Season'] == 'Summer') & (df['Date'].dt.year == 2016)]['Price']\n",
        "winter_data = df[(df['Season'] == 'Winter') & (df['Date'].dt.year == 2016)]['Price']\n",
        "\n",
        "t_stat, p_value = stats.ttest_ind(winter_data,summer_data)\n",
        "print(t_stat,p_value)\n",
        "\n",
        "if p_value < significance_level:\n",
        "    print(\"There is a significant difference in property prices between summer and winter months in 2016 (p < 0.05).\")\n",
        "else:\n",
        "    print(\"There is no significant difference in property prices between summer and winter months in 2016 (p >= 0.05).\")"
      ]
    },
    {
      "cell_type": "markdown",
      "id": "25b95444",
      "metadata": {
        "id": "25b95444"
      },
      "source": [
        "3. For the suburb Abbotsford, what is the probability that out of 10 properties sold, 3 will not\n",
        "have a car parking? Use the column car in the dataset. Round off your answer to 3 decimal\n",
        "places"
      ]
    },
    {
      "cell_type": "code",
      "execution_count": null,
      "id": "13610c09",
      "metadata": {
        "id": "13610c09"
      },
      "outputs": [],
      "source": [
        "#Filtering the data for the suburb Abbotsford\n",
        "ab_data = df[df['Suburb'] == 'Abbotsford']"
      ]
    },
    {
      "cell_type": "code",
      "execution_count": null,
      "id": "f4aab8e1",
      "metadata": {
        "id": "f4aab8e1"
      },
      "outputs": [],
      "source": [
        "# Number of properties not having a car parking\n",
        "no_park_count = ab_data['Car'].value_counts()[0]"
      ]
    },
    {
      "cell_type": "code",
      "execution_count": null,
      "id": "bb2b73d8",
      "metadata": {
        "id": "bb2b73d8"
      },
      "outputs": [],
      "source": [
        "#Total number of properties in suburb Abbotsford\n",
        "Total_properties_count = ab_data.shape[0]"
      ]
    },
    {
      "cell_type": "code",
      "execution_count": null,
      "id": "a0e9c653",
      "metadata": {
        "id": "a0e9c653",
        "outputId": "b5219c96-ceca-4ab1-f5c0-905c84672928",
        "colab": {
          "base_uri": "https://localhost:8080/"
        }
      },
      "outputs": [
        {
          "output_type": "stream",
          "name": "stdout",
          "text": [
            "0.26785714285714285\n"
          ]
        }
      ],
      "source": [
        "#probability of success ie not having a  car parking\n",
        "p = no_park_count / Total_properties_count\n",
        "print(p)"
      ]
    },
    {
      "cell_type": "code",
      "execution_count": null,
      "id": "98fec35e",
      "metadata": {
        "id": "98fec35e",
        "outputId": "ff47bea1-7916-4b1c-aad6-bfea4870f6c8",
        "colab": {
          "base_uri": "https://localhost:8080/"
        }
      },
      "outputs": [
        {
          "output_type": "stream",
          "name": "stdout",
          "text": [
            "Probability of 3 out of 10 properties in Abbotsford not having car parking: 0.26\n"
          ]
        }
      ],
      "source": [
        "num_successes = 3\n",
        "num_trials=10\n",
        "prob_no_car=binom.pmf(num_successes,num_trials,p)\n",
        "print(\"Probability of 3 out of 10 properties in Abbotsford not having car parking:\", round(prob_no_car, 3))"
      ]
    },
    {
      "cell_type": "markdown",
      "id": "345642b3",
      "metadata": {
        "id": "345642b3"
      },
      "source": [
        "4. In the suburb Abbotsford, what are the chances of finding a property with 3 rooms? Round\n",
        "your answer to 3 decimal places."
      ]
    },
    {
      "cell_type": "code",
      "source": [
        "ab_data['Rooms'].value_counts()"
      ],
      "metadata": {
        "colab": {
          "base_uri": "https://localhost:8080/"
        },
        "id": "qJDRgBsxUmpU",
        "outputId": "6a1e01f2-e5f8-4dd1-9121-4d54f0edbaf6"
      },
      "id": "qJDRgBsxUmpU",
      "execution_count": null,
      "outputs": [
        {
          "output_type": "execute_result",
          "data": {
            "text/plain": [
              "2    27\n",
              "3    20\n",
              "1     5\n",
              "4     4\n",
              "Name: Rooms, dtype: int64"
            ]
          },
          "metadata": {},
          "execution_count": 21
        }
      ]
    },
    {
      "cell_type": "code",
      "execution_count": null,
      "id": "8d84a837",
      "metadata": {
        "id": "8d84a837",
        "outputId": "da02afc8-168b-488b-d62a-90a7ff3a5c32"
      },
      "outputs": [
        {
          "data": {
            "text/plain": [
              "20"
            ]
          },
          "execution_count": 96,
          "metadata": {},
          "output_type": "execute_result"
        }
      ],
      "source": [
        "# Number of properties with 3 rooms\n",
        "count_3_room = ab_data['Rooms'].value_counts()[3]"
      ]
    },
    {
      "cell_type": "code",
      "execution_count": null,
      "id": "f8754a4b",
      "metadata": {
        "id": "f8754a4b",
        "outputId": "17d69956-1563-4a54-cae0-ef775458e21d"
      },
      "outputs": [
        {
          "name": "stdout",
          "output_type": "stream",
          "text": [
            "Probability of finding a property with 3 rooms in Abbotsford: 0.357\n"
          ]
        }
      ],
      "source": [
        "prob_3_rooms = count_3_room / Total_properties_count\n",
        "print(\"Probability of finding a property with 3 rooms in Abbotsford:\", round(prob_3_rooms, 3))"
      ]
    },
    {
      "cell_type": "markdown",
      "id": "50d6bdac",
      "metadata": {
        "id": "50d6bdac"
      },
      "source": [
        "5. In the suburb Abbotsford, what are the chances of finding a property with 2 bathrooms?\n",
        "Round your answer to 3 decimal places."
      ]
    },
    {
      "cell_type": "code",
      "source": [
        "ab_data['Bathroom'].value_counts()"
      ],
      "metadata": {
        "colab": {
          "base_uri": "https://localhost:8080/"
        },
        "id": "4Pm-Tx1wUwUA",
        "outputId": "c6501ac0-d2ad-4933-df6d-410160382d1f"
      },
      "id": "4Pm-Tx1wUwUA",
      "execution_count": null,
      "outputs": [
        {
          "output_type": "execute_result",
          "data": {
            "text/plain": [
              "1.0    35\n",
              "2.0    19\n",
              "3.0     2\n",
              "Name: Bathroom, dtype: int64"
            ]
          },
          "metadata": {},
          "execution_count": 19
        }
      ]
    },
    {
      "cell_type": "code",
      "execution_count": null,
      "id": "0b112017",
      "metadata": {
        "id": "0b112017",
        "outputId": "495414c2-92c9-4228-9df4-9f1f74e95022"
      },
      "outputs": [
        {
          "data": {
            "text/plain": [
              "19"
            ]
          },
          "execution_count": 100,
          "metadata": {},
          "output_type": "execute_result"
        }
      ],
      "source": [
        "# Number of properties with 2 bathrooms\n",
        "count_2_bathroom = ab_data['Bathroom'].value_counts()[2]"
      ]
    },
    {
      "cell_type": "code",
      "execution_count": null,
      "id": "ec04bfe0",
      "metadata": {
        "id": "ec04bfe0",
        "outputId": "c9260241-ca2c-4724-9178-46d4e36b6089"
      },
      "outputs": [
        {
          "name": "stdout",
          "output_type": "stream",
          "text": [
            "Probability of finding a property with 2 bathrooms in Abbotsford: 0.339\n"
          ]
        }
      ],
      "source": [
        "prob_2_bath=count_2_bathroom / Total_properties_count\n",
        "print(\"Probability of finding a property with 2 bathrooms in Abbotsford:\", round(prob_2_bath, 3))"
      ]
    },
    {
      "cell_type": "code",
      "execution_count": null,
      "id": "489f1e96",
      "metadata": {
        "id": "489f1e96"
      },
      "outputs": [],
      "source": []
    }
  ],
  "metadata": {
    "kernelspec": {
      "display_name": "Python 3 (ipykernel)",
      "language": "python",
      "name": "python3"
    },
    "language_info": {
      "codemirror_mode": {
        "name": "ipython",
        "version": 3
      },
      "file_extension": ".py",
      "mimetype": "text/x-python",
      "name": "python",
      "nbconvert_exporter": "python",
      "pygments_lexer": "ipython3",
      "version": "3.10.9"
    },
    "colab": {
      "provenance": []
    }
  },
  "nbformat": 4,
  "nbformat_minor": 5
}